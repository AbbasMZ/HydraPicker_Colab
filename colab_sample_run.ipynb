{
  "nbformat": 4,
  "nbformat_minor": 0,
  "metadata": {
    "colab": {
      "name": "colab_sample_run.ipynb",
      "provenance": [],
      "collapsed_sections": []
    },
    "kernelspec": {
      "name": "python3",
      "display_name": "Python 3"
    },
    "accelerator": "GPU"
  },
  "cells": [
    {
      "cell_type": "markdown",
      "metadata": {
        "id": "jU29STMNaMM0",
        "colab_type": "text"
      },
      "source": [
        "First, enable using a GPU: \n",
        "    Runtime -> Change runtime type -> Hardware Accelerator -> GPU.\n",
        "Then, run the following code which may ask for your authorization to access your Google Drive and mount it."
      ]
    },
    {
      "cell_type": "code",
      "metadata": {
        "id": "aHK09KuUaMej",
        "colab_type": "code",
        "colab": {}
      },
      "source": [
        "from google.colab import drive\n",
        "drive.mount('/content/gdrive')"
      ],
      "execution_count": 0,
      "outputs": []
    },
    {
      "cell_type": "markdown",
      "metadata": {
        "id": "Rohx7YsYay2o",
        "colab_type": "text"
      },
      "source": [
        "Assuming you have followed the instructions in the readme file,\n",
        "this will change directory to the related address. "
      ]
    },
    {
      "cell_type": "code",
      "metadata": {
        "id": "ES3usNvIRrEo",
        "colab_type": "code",
        "outputId": "4feb5e68-09ab-429e-8a2a-3e415e85d9ca",
        "colab": {
          "base_uri": "https://localhost:8080/",
          "height": 35
        }
      },
      "source": [
        "%cd content/gdrive/My\\ Drive/Colab\\ Notebooks/HydraPicker_Colab/"
      ],
      "execution_count": 27,
      "outputs": [
        {
          "output_type": "stream",
          "text": [
            " colab_test.ipynb  'Copy of Welcome To Colaboratory'   \u001b[0m\u001b[01;34mHydraPicker_Dev\u001b[0m/\n"
          ],
          "name": "stdout"
        }
      ]
    },
    {
      "cell_type": "markdown",
      "metadata": {
        "id": "GhtnEJzKbO5c",
        "colab_type": "text"
      },
      "source": [
        "This will install a few packages:"
      ]
    },
    {
      "cell_type": "code",
      "metadata": {
        "id": "RKXPbuZbTaQc",
        "colab_type": "code",
        "outputId": "b060a8d3-927d-4604-d0cb-7824e9e8fc35",
        "colab": {
          "base_uri": "https://localhost:8080/",
          "height": 366
        }
      },
      "source": [
        "!pip install bcolz isoweek pandas_summary"
      ],
      "execution_count": 28,
      "outputs": [
        {
          "output_type": "stream",
          "text": [
            "Collecting bcolz\n",
            "\u001b[?25l  Downloading https://files.pythonhosted.org/packages/5c/4e/23942de9d5c0fb16f10335fa83e52b431bcb8c0d4a8419c9ac206268c279/bcolz-1.2.1.tar.gz (1.5MB)\n",
            "\r\u001b[K     |▎                               | 10kB 24.0MB/s eta 0:00:01\r\u001b[K     |▌                               | 20kB 32.3MB/s eta 0:00:01\r\u001b[K     |▊                               | 30kB 37.8MB/s eta 0:00:01\r\u001b[K     |█                               | 40kB 41.8MB/s eta 0:00:01\r\u001b[K     |█▏                              | 51kB 35.9MB/s eta 0:00:01\r\u001b[K     |█▍                              | 61kB 38.1MB/s eta 0:00:01\r\u001b[K     |█▋                              | 71kB 30.7MB/s eta 0:00:01\r\u001b[K     |█▉                              | 81kB 32.2MB/s eta 0:00:01\r\u001b[K     |██                              | 92kB 34.0MB/s eta 0:00:01\r\u001b[K     |██▎                             | 102kB 32.1MB/s eta 0:00:01\r\u001b[K     |██▌                             | 112kB 32.1MB/s eta 0:00:01\r\u001b[K     |██▊                             | 122kB 32.1MB/s eta 0:00:01\r\u001b[K     |███                             | 133kB 32.1MB/s eta 0:00:01\r\u001b[K     |███▏                            | 143kB 32.1MB/s eta 0:00:01\r\u001b[K     |███▍                            | 153kB 32.1MB/s eta 0:00:01\r\u001b[K     |███▋                            | 163kB 32.1MB/s eta 0:00:01\r\u001b[K     |███▉                            | 174kB 32.1MB/s eta 0:00:01\r\u001b[K     |████                            | 184kB 32.1MB/s eta 0:00:01\r\u001b[K     |████▎                           | 194kB 32.1MB/s eta 0:00:01\r\u001b[K     |████▌                           | 204kB 32.1MB/s eta 0:00:01\r\u001b[K     |████▊                           | 215kB 32.1MB/s eta 0:00:01\r\u001b[K     |█████                           | 225kB 32.1MB/s eta 0:00:01\r\u001b[K     |█████▏                          | 235kB 32.1MB/s eta 0:00:01\r\u001b[K     |█████▍                          | 245kB 32.1MB/s eta 0:00:01\r\u001b[K     |█████▋                          | 256kB 32.1MB/s eta 0:00:01\r\u001b[K     |█████▉                          | 266kB 32.1MB/s eta 0:00:01\r\u001b[K     |██████                          | 276kB 32.1MB/s eta 0:00:01\r\u001b[K     |██████▎                         | 286kB 32.1MB/s eta 0:00:01\r\u001b[K     |██████▌                         | 296kB 32.1MB/s eta 0:00:01\r\u001b[K     |██████▊                         | 307kB 32.1MB/s eta 0:00:01\r\u001b[K     |███████                         | 317kB 32.1MB/s eta 0:00:01\r\u001b[K     |███████▏                        | 327kB 32.1MB/s eta 0:00:01\r\u001b[K     |███████▍                        | 337kB 32.1MB/s eta 0:00:01\r\u001b[K     |███████▋                        | 348kB 32.1MB/s eta 0:00:01\r\u001b[K     |███████▉                        | 358kB 32.1MB/s eta 0:00:01\r\u001b[K     |████████                        | 368kB 32.1MB/s eta 0:00:01\r\u001b[K     |████████▎                       | 378kB 32.1MB/s eta 0:00:01\r\u001b[K     |████████▌                       | 389kB 32.1MB/s eta 0:00:01\r\u001b[K     |████████▊                       | 399kB 32.1MB/s eta 0:00:01\r\u001b[K     |█████████                       | 409kB 32.1MB/s eta 0:00:01\r\u001b[K     |█████████▏                      | 419kB 32.1MB/s eta 0:00:01\r\u001b[K     |█████████▍                      | 430kB 32.1MB/s eta 0:00:01\r\u001b[K     |█████████▋                      | 440kB 32.1MB/s eta 0:00:01\r\u001b[K     |█████████▉                      | 450kB 32.1MB/s eta 0:00:01\r\u001b[K     |██████████                      | 460kB 32.1MB/s eta 0:00:01\r\u001b[K     |██████████▎                     | 471kB 32.1MB/s eta 0:00:01\r\u001b[K     |██████████▋                     | 481kB 32.1MB/s eta 0:00:01\r\u001b[K     |██████████▉                     | 491kB 32.1MB/s eta 0:00:01\r\u001b[K     |███████████                     | 501kB 32.1MB/s eta 0:00:01\r\u001b[K     |███████████▎                    | 512kB 32.1MB/s eta 0:00:01\r\u001b[K     |███████████▌                    | 522kB 32.1MB/s eta 0:00:01\r\u001b[K     |███████████▊                    | 532kB 32.1MB/s eta 0:00:01\r\u001b[K     |████████████                    | 542kB 32.1MB/s eta 0:00:01\r\u001b[K     |████████████▏                   | 552kB 32.1MB/s eta 0:00:01\r\u001b[K     |████████████▍                   | 563kB 32.1MB/s eta 0:00:01\r\u001b[K     |████████████▋                   | 573kB 32.1MB/s eta 0:00:01\r\u001b[K     |████████████▉                   | 583kB 32.1MB/s eta 0:00:01\r\u001b[K     |█████████████                   | 593kB 32.1MB/s eta 0:00:01\r\u001b[K     |█████████████▎                  | 604kB 32.1MB/s eta 0:00:01\r\u001b[K     |█████████████▌                  | 614kB 32.1MB/s eta 0:00:01\r\u001b[K     |█████████████▊                  | 624kB 32.1MB/s eta 0:00:01\r\u001b[K     |██████████████                  | 634kB 32.1MB/s eta 0:00:01\r\u001b[K     |██████████████▏                 | 645kB 32.1MB/s eta 0:00:01\r\u001b[K     |██████████████▍                 | 655kB 32.1MB/s eta 0:00:01\r\u001b[K     |██████████████▋                 | 665kB 32.1MB/s eta 0:00:01\r\u001b[K     |██████████████▉                 | 675kB 32.1MB/s eta 0:00:01\r\u001b[K     |███████████████                 | 686kB 32.1MB/s eta 0:00:01\r\u001b[K     |███████████████▎                | 696kB 32.1MB/s eta 0:00:01\r\u001b[K     |███████████████▌                | 706kB 32.1MB/s eta 0:00:01\r\u001b[K     |███████████████▊                | 716kB 32.1MB/s eta 0:00:01\r\u001b[K     |████████████████                | 727kB 32.1MB/s eta 0:00:01\r\u001b[K     |████████████████▏               | 737kB 32.1MB/s eta 0:00:01\r\u001b[K     |████████████████▍               | 747kB 32.1MB/s eta 0:00:01\r\u001b[K     |████████████████▋               | 757kB 32.1MB/s eta 0:00:01\r\u001b[K     |████████████████▉               | 768kB 32.1MB/s eta 0:00:01\r\u001b[K     |█████████████████               | 778kB 32.1MB/s eta 0:00:01\r\u001b[K     |█████████████████▎              | 788kB 32.1MB/s eta 0:00:01\r\u001b[K     |█████████████████▌              | 798kB 32.1MB/s eta 0:00:01\r\u001b[K     |█████████████████▊              | 808kB 32.1MB/s eta 0:00:01\r\u001b[K     |██████████████████              | 819kB 32.1MB/s eta 0:00:01\r\u001b[K     |██████████████████▏             | 829kB 32.1MB/s eta 0:00:01\r\u001b[K     |██████████████████▍             | 839kB 32.1MB/s eta 0:00:01\r\u001b[K     |██████████████████▋             | 849kB 32.1MB/s eta 0:00:01\r\u001b[K     |██████████████████▉             | 860kB 32.1MB/s eta 0:00:01\r\u001b[K     |███████████████████             | 870kB 32.1MB/s eta 0:00:01\r\u001b[K     |███████████████████▎            | 880kB 32.1MB/s eta 0:00:01\r\u001b[K     |███████████████████▌            | 890kB 32.1MB/s eta 0:00:01\r\u001b[K     |███████████████████▊            | 901kB 32.1MB/s eta 0:00:01\r\u001b[K     |████████████████████            | 911kB 32.1MB/s eta 0:00:01\r\u001b[K     |████████████████████▏           | 921kB 32.1MB/s eta 0:00:01\r\u001b[K     |████████████████████▍           | 931kB 32.1MB/s eta 0:00:01\r\u001b[K     |████████████████████▋           | 942kB 32.1MB/s eta 0:00:01\r\u001b[K     |████████████████████▉           | 952kB 32.1MB/s eta 0:00:01\r\u001b[K     |█████████████████████▏          | 962kB 32.1MB/s eta 0:00:01\r\u001b[K     |█████████████████████▍          | 972kB 32.1MB/s eta 0:00:01\r\u001b[K     |█████████████████████▋          | 983kB 32.1MB/s eta 0:00:01\r\u001b[K     |█████████████████████▉          | 993kB 32.1MB/s eta 0:00:01\r\u001b[K     |██████████████████████          | 1.0MB 32.1MB/s eta 0:00:01\r\u001b[K     |██████████████████████▎         | 1.0MB 32.1MB/s eta 0:00:01\r\u001b[K     |██████████████████████▌         | 1.0MB 32.1MB/s eta 0:00:01\r\u001b[K     |██████████████████████▊         | 1.0MB 32.1MB/s eta 0:00:01\r\u001b[K     |███████████████████████         | 1.0MB 32.1MB/s eta 0:00:01\r\u001b[K     |███████████████████████▏        | 1.1MB 32.1MB/s eta 0:00:01\r\u001b[K     |███████████████████████▍        | 1.1MB 32.1MB/s eta 0:00:01\r\u001b[K     |███████████████████████▋        | 1.1MB 32.1MB/s eta 0:00:01\r\u001b[K     |███████████████████████▉        | 1.1MB 32.1MB/s eta 0:00:01\r\u001b[K     |████████████████████████        | 1.1MB 32.1MB/s eta 0:00:01\r\u001b[K     |████████████████████████▎       | 1.1MB 32.1MB/s eta 0:00:01\r\u001b[K     |████████████████████████▌       | 1.1MB 32.1MB/s eta 0:00:01\r\u001b[K     |████████████████████████▊       | 1.1MB 32.1MB/s eta 0:00:01\r\u001b[K     |█████████████████████████       | 1.1MB 32.1MB/s eta 0:00:01\r\u001b[K     |█████████████████████████▏      | 1.1MB 32.1MB/s eta 0:00:01\r\u001b[K     |█████████████████████████▍      | 1.2MB 32.1MB/s eta 0:00:01\r\u001b[K     |█████████████████████████▋      | 1.2MB 32.1MB/s eta 0:00:01\r\u001b[K     |█████████████████████████▉      | 1.2MB 32.1MB/s eta 0:00:01\r\u001b[K     |██████████████████████████      | 1.2MB 32.1MB/s eta 0:00:01\r\u001b[K     |██████████████████████████▎     | 1.2MB 32.1MB/s eta 0:00:01\r\u001b[K     |██████████████████████████▌     | 1.2MB 32.1MB/s eta 0:00:01\r\u001b[K     |██████████████████████████▊     | 1.2MB 32.1MB/s eta 0:00:01\r\u001b[K     |███████████████████████████     | 1.2MB 32.1MB/s eta 0:00:01\r\u001b[K     |███████████████████████████▏    | 1.2MB 32.1MB/s eta 0:00:01\r\u001b[K     |███████████████████████████▍    | 1.2MB 32.1MB/s eta 0:00:01\r\u001b[K     |███████████████████████████▋    | 1.3MB 32.1MB/s eta 0:00:01\r\u001b[K     |███████████████████████████▉    | 1.3MB 32.1MB/s eta 0:00:01\r\u001b[K     |████████████████████████████    | 1.3MB 32.1MB/s eta 0:00:01\r\u001b[K     |████████████████████████████▎   | 1.3MB 32.1MB/s eta 0:00:01\r\u001b[K     |████████████████████████████▌   | 1.3MB 32.1MB/s eta 0:00:01\r\u001b[K     |████████████████████████████▊   | 1.3MB 32.1MB/s eta 0:00:01\r\u001b[K     |█████████████████████████████   | 1.3MB 32.1MB/s eta 0:00:01\r\u001b[K     |█████████████████████████████▏  | 1.3MB 32.1MB/s eta 0:00:01\r\u001b[K     |█████████████████████████████▍  | 1.3MB 32.1MB/s eta 0:00:01\r\u001b[K     |█████████████████████████████▋  | 1.4MB 32.1MB/s eta 0:00:01\r\u001b[K     |█████████████████████████████▉  | 1.4MB 32.1MB/s eta 0:00:01\r\u001b[K     |██████████████████████████████  | 1.4MB 32.1MB/s eta 0:00:01\r\u001b[K     |██████████████████████████████▎ | 1.4MB 32.1MB/s eta 0:00:01\r\u001b[K     |██████████████████████████████▌ | 1.4MB 32.1MB/s eta 0:00:01\r\u001b[K     |██████████████████████████████▊ | 1.4MB 32.1MB/s eta 0:00:01\r\u001b[K     |███████████████████████████████ | 1.4MB 32.1MB/s eta 0:00:01\r\u001b[K     |███████████████████████████████▏| 1.4MB 32.1MB/s eta 0:00:01\r\u001b[K     |███████████████████████████████▍| 1.4MB 32.1MB/s eta 0:00:01\r\u001b[K     |███████████████████████████████▊| 1.4MB 32.1MB/s eta 0:00:01\r\u001b[K     |████████████████████████████████| 1.5MB 32.1MB/s eta 0:00:01\r\u001b[K     |████████████████████████████████| 1.5MB 32.1MB/s \n",
            "\u001b[?25hCollecting isoweek\n",
            "  Downloading https://files.pythonhosted.org/packages/c2/d4/fe7e2637975c476734fcbf53776e650a29680194eb0dd21dbdc020ca92de/isoweek-1.3.3-py2.py3-none-any.whl\n",
            "Collecting pandas_summary\n",
            "  Downloading https://files.pythonhosted.org/packages/f5/20/865d4785f86e86f7ad7ebd52fc14810ef59ef13cd959f1363a2615d1c665/pandas_summary-0.0.7-py2.py3-none-any.whl\n",
            "Requirement already satisfied: numpy>=1.7 in /usr/local/lib/python3.6/dist-packages (from bcolz) (1.17.4)\n",
            "Requirement already satisfied: pandas in /usr/local/lib/python3.6/dist-packages (from pandas_summary) (0.25.3)\n",
            "Requirement already satisfied: pytz>=2017.2 in /usr/local/lib/python3.6/dist-packages (from pandas->pandas_summary) (2018.9)\n",
            "Requirement already satisfied: python-dateutil>=2.6.1 in /usr/local/lib/python3.6/dist-packages (from pandas->pandas_summary) (2.6.1)\n",
            "Requirement already satisfied: six>=1.5 in /usr/local/lib/python3.6/dist-packages (from python-dateutil>=2.6.1->pandas->pandas_summary) (1.12.0)\n",
            "Building wheels for collected packages: bcolz\n",
            "  Building wheel for bcolz (setup.py) ... \u001b[?25l\u001b[?25hdone\n",
            "  Created wheel for bcolz: filename=bcolz-1.2.1-cp36-cp36m-linux_x86_64.whl size=2659810 sha256=bbdc5bdefa01ded0d9f1fb0b3902345aafd98f5eb53d3472ff39891ee7b0ee87\n",
            "  Stored in directory: /root/.cache/pip/wheels/9f/78/26/fb8c0acb91a100dc8914bf236c4eaa4b207cb876893c40b745\n",
            "Successfully built bcolz\n",
            "Installing collected packages: bcolz, isoweek, pandas-summary\n",
            "Successfully installed bcolz-1.2.1 isoweek-1.3.3 pandas-summary-0.0.7\n"
          ],
          "name": "stdout"
        }
      ]
    },
    {
      "cell_type": "markdown",
      "metadata": {
        "id": "ikfJYJQbZFcV",
        "colab_type": "text"
      },
      "source": [
        "Try using the pre-trained model to pick from 2 sample datasets 'Empiar 10078' and 'PDB 5XNL'.\n",
        "\n",
        "Asuming no error would occur three .star files should be created for each in `predictions/test`.\n"
      ]
    },
    {
      "cell_type": "code",
      "metadata": {
        "id": "8a3FBj7VZqKx",
        "colab_type": "code",
        "colab": {}
      },
      "source": [
        "!python predict.py -t 4b -td '10078$pdb_5xnl' -l model_00945 -psf test2 -ph all"
      ],
      "execution_count": 0,
      "outputs": []
    },
    {
      "cell_type": "markdown",
      "metadata": {
        "id": "UtcO3bsFZt1n",
        "colab_type": "text"
      },
      "source": [
        "You can evaluate the prediction using the testing subsets of those datasets:"
      ]
    },
    {
      "cell_type": "code",
      "metadata": {
        "id": "UBA0pubASK0G",
        "colab_type": "code",
        "outputId": "ccc5d496-b900-4781-a01c-b7ae3d3cf701",
        "colab": {
          "base_uri": "https://localhost:8080/",
          "height": 164
        }
      },
      "source": [
        "!python evaluate.py -m score -t 4b -td '10078$pdb_5xnl' -l model_00945 -psf test2 -ef star"
      ],
      "execution_count": 33,
      "outputs": [
        {
          "output_type": "stream",
          "text": [
            "val_time:  3.718427896499634\n",
            "Gen head on targets:\n",
            "AP:                           0.9585295859556253\n",
            "Precision at recall=90:       0.9263940520446097\n",
            "Recall at precision=90:       0.9421547360809832\n",
            "AUROC:                        0.9793271995249663\n",
            "\n",
            "\n"
          ],
          "name": "stdout"
        }
      ]
    },
    {
      "cell_type": "markdown",
      "metadata": {
        "id": "dNl0aZxdbjro",
        "colab_type": "text"
      },
      "source": [
        "Checkout the readme file for some details on available commands and options."
      ]
    },
    {
      "cell_type": "code",
      "metadata": {
        "id": "dtnhJDqjbo-6",
        "colab_type": "code",
        "colab": {}
      },
      "source": [
        ""
      ],
      "execution_count": 0,
      "outputs": []
    }
  ]
}