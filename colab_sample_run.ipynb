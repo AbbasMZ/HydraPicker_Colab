{
  "nbformat": 4,
  "nbformat_minor": 0,
  "metadata": {
    "colab": {
      "name": "colab_sample_run.ipynb",
      "provenance": [],
      "collapsed_sections": []
    },
    "kernelspec": {
      "name": "python3",
      "display_name": "Python 3"
    },
    "accelerator": "GPU"
  },
  "cells": [
    {
      "cell_type": "markdown",
      "metadata": {
        "colab_type": "text",
        "id": "jU29STMNaMM0"
      },
      "outputs": [],
      "source": [
        "First, enable using a GPU: \n",
        "\n",
        "    Runtime -> Change runtime type -> Hardware Accelerator -> GPU.\n",
        "\n",
        "Then, run the following code which may ask for your authorization to access your Google Drive and mount it."
      ]
    },
    {
      "cell_type": "code",
      "metadata": {
        "colab": {},
        "colab_type": "code",
        "id": "aHK09KuUaMej"
      },
      "outputs": [],
      "source": [
        "from google.colab import drive\n",
        "drive.mount('/content/gdrive')"
      ]
    },
    {
      "cell_type": "markdown",
      "metadata": {
        "colab_type": "text",
        "id": "Rohx7YsYay2o"
      },
      "outputs": [],
      "source": [
        "Assuming you have followed the instructions in the readme file,\n",
        "this will change directory to the related address. "
      ]
    },
    {
      "cell_type": "code",
      "metadata": {
        "colab": {
          "base_uri": "https://localhost:8080/",
          "height": 35
        },
        "colab_type": "code",
        "id": "ES3usNvIRrEo",
        "outputId": "4feb5e68-09ab-429e-8a2a-3e415e85d9ca"
      },
      "outputs": [],
      "source": [
        "%cd content/gdrive/My\\ Drive/Colab\\ Notebooks/HydraPicker_Colab/"
      ]
    },
    {
      "cell_type": "markdown",
      "metadata": {
        "colab_type": "text",
        "id": "GhtnEJzKbO5c"
      },
      "outputs": [],
      "source": [
        "This will install a few packages:"
      ]
    },
    {
      "cell_type": "code",
      "metadata": {
        "colab": {
          "base_uri": "https://localhost:8080/",
          "height": 366
        },
        "colab_type": "code",
        "id": "RKXPbuZbTaQc",
        "outputId": "b060a8d3-927d-4604-d0cb-7824e9e8fc35"
      },
      "outputs": [],
      "source": [
        "!pip install bcolz isoweek pandas_summary"
      ]
    },
    {
      "cell_type": "markdown",
      "metadata": {
        "colab_type": "text",
        "id": "ikfJYJQbZFcV"
      },
      "outputs": [],
      "source": [
        "Try using the pre-trained model to pick from 2 sample datasets 'Empiar 10078' and 'PDB 5XNL'.\n",
        "\n",
        "Asuming no error would occur three .star files should be created for each in `predictions/test`.\n"
      ]
    },
    {
      "cell_type": "code",
      "metadata": {
        "colab": {},
        "colab_type": "code",
        "id": "8a3FBj7VZqKx"
      },
      "outputs": [],
      "source": [
        "!python predict.py -t 4b -td '10078$pdb_5xnl' -l model_00945 -psf test2 -ph all"
      ]
    },
    {
      "cell_type": "markdown",
      "metadata": {
        "colab_type": "text",
        "id": "UtcO3bsFZt1n"
      },
      "outputs": [],
      "source": [
        "You can evaluate the prediction using the testing subsets of those datasets:"
      ]
    },
    {
      "cell_type": "code",
      "metadata": {
        "colab": {
          "base_uri": "https://localhost:8080/",
          "height": 164
        },
        "colab_type": "code",
        "id": "UBA0pubASK0G",
        "outputId": "ccc5d496-b900-4781-a01c-b7ae3d3cf701"
      },
      "outputs": [],
      "source": [
        "!python evaluate.py -m score -t 4b -td '10078$pdb_5xnl' -l model_00945 -psf test2 -ef star"
      ]
    },
    {
      "cell_type": "markdown",
      "metadata": {
        "colab_type": "text",
        "id": "dNl0aZxdbjro"
      },
      "outputs": [],
      "source": [
        "Checkout the readme file for some details on available commands and options."
      ]
    },
    {
      "cell_type": "code",
      "metadata": {
        "colab": {},
        "colab_type": "code",
        "id": "dtnhJDqjbo-6"
      },
      "outputs": [],
      "source": []
    }
  ]
}